{
 "cells": [
  {
   "cell_type": "code",
   "execution_count": 3,
   "metadata": {},
   "outputs": [
    {
     "ename": "IndexError",
     "evalue": "index 468 is out of bounds for axis 1 with size 417",
     "output_type": "error",
     "traceback": [
      "\u001b[0;31m---------------------------------------------------------------------------\u001b[0m",
      "\u001b[0;31mIndexError\u001b[0m                                Traceback (most recent call last)",
      "Cell \u001b[0;32mIn [3], line 10\u001b[0m\n\u001b[1;32m      8\u001b[0m m \u001b[38;5;241m=\u001b[39m Board(width,height)\n\u001b[1;32m      9\u001b[0m m\u001b[38;5;241m.\u001b[39mrandomize(seed\u001b[38;5;241m=\u001b[39m\u001b[38;5;241m13\u001b[39m)\n\u001b[0;32m---> 10\u001b[0m \u001b[43mm\u001b[49m\u001b[38;5;241;43m.\u001b[39;49m\u001b[43mplot\u001b[49m\u001b[43m(\u001b[49m\u001b[43m)\u001b[49m\n",
      "File \u001b[0;32m~/ML-For-Beginners/8-Reinforcement/1-QLearning/rlboard.py:169\u001b[0m, in \u001b[0;36mBoard.plot\u001b[0;34m(self, Q)\u001b[0m\n\u001b[1;32m    167\u001b[0m \u001b[39mdef\u001b[39;00m \u001b[39mplot\u001b[39m(\u001b[39mself\u001b[39m,Q\u001b[39m=\u001b[39m\u001b[39mNone\u001b[39;00m):\n\u001b[1;32m    168\u001b[0m     plt\u001b[39m.\u001b[39mfigure(figsize\u001b[39m=\u001b[39m(\u001b[39m11\u001b[39m,\u001b[39m6\u001b[39m))\n\u001b[0;32m--> 169\u001b[0m     plt\u001b[39m.\u001b[39mimshow(\u001b[39mself\u001b[39;49m\u001b[39m.\u001b[39;49mimage(Q),interpolation\u001b[39m=\u001b[39m\u001b[39m'\u001b[39m\u001b[39mhanning\u001b[39m\u001b[39m'\u001b[39m)\n",
      "File \u001b[0;32m~/ML-For-Beginners/8-Reinforcement/1-QLearning/rlboard.py:160\u001b[0m, in \u001b[0;36mBoard.image\u001b[0;34m(self, Q)\u001b[0m\n\u001b[1;32m    158\u001b[0m \u001b[39m# Draw grid\u001b[39;00m\n\u001b[1;32m    159\u001b[0m \u001b[39mfor\u001b[39;00m i \u001b[39min\u001b[39;00m \u001b[39mrange\u001b[39m(\u001b[39mself\u001b[39m\u001b[39m.\u001b[39mheight\u001b[39m+\u001b[39m\u001b[39m1\u001b[39m):\n\u001b[0;32m--> 160\u001b[0m     img[:,i\u001b[39m*\u001b[39;49m\u001b[39mself\u001b[39;49m\u001b[39m.\u001b[39;49msize] \u001b[39m=\u001b[39m \u001b[39m0.3\u001b[39m\n\u001b[1;32m    161\u001b[0m     \u001b[39m#cv2.line(img,(0,i*self.size),(self.width*self.size,i*self.size), self.grid_color, self.grid_thickness,lineType=self.grid_line_type)\u001b[39;00m\n\u001b[1;32m    162\u001b[0m \u001b[39mfor\u001b[39;00m j \u001b[39min\u001b[39;00m \u001b[39mrange\u001b[39m(\u001b[39mself\u001b[39m\u001b[39m.\u001b[39mwidth\u001b[39m+\u001b[39m\u001b[39m1\u001b[39m):\n",
      "\u001b[0;31mIndexError\u001b[0m: index 468 is out of bounds for axis 1 with size 417"
     ]
    },
    {
     "data": {
      "text/plain": [
       "<Figure size 1100x600 with 0 Axes>"
      ]
     },
     "metadata": {},
     "output_type": "display_data"
    }
   ],
   "source": [
    "import matplotlib.pyplot as plt\n",
    "import numpy as np\n",
    "import random\n",
    "import math\n",
    "from rlboard import *\n",
    "\n",
    "width, height = 8,16\n",
    "m = Board(width,height)\n",
    "m.randomize(seed=13)\n",
    "m.plot()"
   ]
  }
 ],
 "metadata": {
  "kernelspec": {
   "display_name": "Python 3.10.6 ('MLME-22')",
   "language": "python",
   "name": "python3"
  },
  "language_info": {
   "codemirror_mode": {
    "name": "ipython",
    "version": 3
   },
   "file_extension": ".py",
   "mimetype": "text/x-python",
   "name": "python",
   "nbconvert_exporter": "python",
   "pygments_lexer": "ipython3",
   "version": "3.10.6"
  },
  "orig_nbformat": 4,
  "vscode": {
   "interpreter": {
    "hash": "2cb9b8e4ba0e26b1cdc35fa509fd363b1c45cea0b423b3e9d0e061db9bbef286"
   }
  }
 },
 "nbformat": 4,
 "nbformat_minor": 2
}
